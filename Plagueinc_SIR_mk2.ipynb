{
 "cells": [
  {
   "cell_type": "code",
   "execution_count": 3,
   "metadata": {},
   "outputs": [],
   "source": [
    "#Data, indeks array menunjukkan bulan\n",
    "Healthy = [\n",
    "    7124543960,\n",
    "    7124543943,\n",
    "    7124543772,\n",
    "    7124541605,\n",
    "    7124499861,\n",
    "    7115805443,\n",
    "    7052701998,\n",
    "    7039461392,\n",
    "    4949261678,\n",
    "    4345942864,\n",
    "    1022877657,\n",
    "    244854025,\n",
    "    52977,\n",
    "    0,\n",
    "    0]\n",
    "\n",
    "Infected = [\n",
    "    2,\n",
    "    21,\n",
    "    226,\n",
    "    2465,\n",
    "    52863,\n",
    "    11236106,\n",
    "    71861588,\n",
    "    89422353,\n",
    "    2210944315,\n",
    "    2838531918,\n",
    "    6125983061,\n",
    "    6631299002,\n",
    "    4140439770,\n",
    "    229407366,\n",
    "    0]\n",
    "\n",
    "Dead = [\n",
    "    0,\n",
    "    0,\n",
    "    0,\n",
    "    0,\n",
    "    0,\n",
    "    30,\n",
    "    30,\n",
    "    30,\n",
    "    30,\n",
    "    30,\n",
    "    6615687,\n",
    "    296538239,\n",
    "    2983997361,\n",
    "    6895136596,\n",
    "    7124543962]"
   ]
  },
  {
   "cell_type": "code",
   "execution_count": 5,
   "metadata": {},
   "outputs": [
    {
     "data": {
      "text/html": [
       "<html><script type=\"math/tex; mode=display\">\\newcommand{\\Bold}[1]{\\mathbf{#1}}\\mathrm{None}</script></html>"
      ],
      "text/plain": [
       "None"
      ]
     },
     "metadata": {},
     "output_type": "display_data"
    },
    {
     "data": {
      "text/plain": [
       "\"show(\\n     plot(solver.interpolate_solution(i = 0), 0, tmax, legend_label = 'S(t)', color = 'green')\\n   + plot(solver.interpolate_solution(i = 1), 0, tmax, legend_label = 'I(t)', color = 'red')\\n   + plot(solver.interpolate_solution(i = 2), 0, tmax, legend_label = 'R(t)', color = 'blue')\\n)\""
      ]
     },
     "execution_count": 5,
     "metadata": {},
     "output_type": "execute_result"
    }
   ],
   "source": [
    "N = 7124543962\n",
    "\n",
    "S_init = Healthy[0]\n",
    "I_init = Infected[0]\n",
    "R_init = Dead[0]\n",
    "\n",
    "b = 1\n",
    "g = 1\n",
    "\n",
    "tmax = 15\n",
    "\n",
    "def ode_rhs(t,Y):\n",
    "    (S,I,R) = Y\n",
    "    \n",
    "    dS = -b*S*I/N\n",
    "    dI = b*S*I*N - g*I\n",
    "    dR = g*I\n",
    "    \n",
    "    return (dS, dI, dR)\n",
    "\n",
    "T = ode_solver()\n",
    "T.algorithm='rk4'\n",
    "\n",
    "\n",
    "'''\n",
    "solver = ode_solver(function = ode_rhs,\n",
    "                    y_0 = (S_init, I_init, R_init),\n",
    "                    t_span = (0, tmax),\n",
    "                    algorithm = 'rk4')\n",
    "\n",
    "Z = solver.ode_solve(num_points = 1000)\n",
    "show(Z)\n",
    "show(\n",
    "     plot(solver.interpolate_solution(i = 0), 0, tmax, legend_label = 'S(t)', color = 'green')\n",
    "   + plot(solver.interpolate_solution(i = 1), 0, tmax, legend_label = 'I(t)', color = 'red')\n",
    "   + plot(solver.interpolate_solution(i = 2), 0, tmax, legend_label = 'R(t)', color = 'blue')\n",
    ")'''"
   ]
  },
  {
   "cell_type": "code",
   "execution_count": 2,
   "metadata": {},
   "outputs": [],
   "source": [
    "ode_solver?"
   ]
  },
  {
   "cell_type": "code",
   "execution_count": null,
   "metadata": {},
   "outputs": [],
   "source": []
  }
 ],
 "metadata": {
  "kernelspec": {
   "display_name": "SageMath 9.0",
   "language": "sage",
   "name": "sagemath"
  }
 },
 "nbformat": 4,
 "nbformat_minor": 2
}
