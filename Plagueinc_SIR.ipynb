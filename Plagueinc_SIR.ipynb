{
 "cells": [
  {
   "cell_type": "code",
   "execution_count": 40,
   "metadata": {},
   "outputs": [],
   "source": [
    "import numpy as suichan\n",
    "from sage.calculus.desolvers import desolve_system_rk4\n",
    "#from numpy import e as e"
   ]
  },
  {
   "cell_type": "code",
   "execution_count": 35,
   "metadata": {},
   "outputs": [],
   "source": [
    "#Data\n",
    "Healthy = [\n",
    "    7124543960,\n",
    "    7124543943,\n",
    "    7124543772,\n",
    "    7124541605,\n",
    "    7124499861,\n",
    "    7115805443,\n",
    "    7052701998,\n",
    "    7039461392,\n",
    "    4949261678,\n",
    "    4345942864,\n",
    "    1022877657,\n",
    "    244854025,\n",
    "    52977,\n",
    "    0,\n",
    "    0]\n",
    "\n",
    "Infected = [\n",
    "    2,\n",
    "    21,\n",
    "    226,\n",
    "    2465,\n",
    "    52863,\n",
    "    11236106,\n",
    "    71861588,\n",
    "    89422353,\n",
    "    2210944315,\n",
    "    2838531918,\n",
    "    6125983061,\n",
    "    6631299002,\n",
    "    4140439770,\n",
    "    229407366,\n",
    "    0]\n",
    "\n",
    "Dead = [\n",
    "    0,\n",
    "    0,\n",
    "    0,\n",
    "    0,\n",
    "    0,\n",
    "    30,\n",
    "    30,\n",
    "    30,\n",
    "    30,\n",
    "    30,\n",
    "    6615687,\n",
    "    296538239,\n",
    "    2983997361,\n",
    "    6895136596,\n",
    "    7124543962]"
   ]
  },
  {
   "cell_type": "code",
   "execution_count": 36,
   "metadata": {},
   "outputs": [
    {
     "data": {
      "text/plain": [
       "[S(t) == 7124543960*e^(-t),\n",
       " _I(t) == 7124543960*t*e^(-t) + 2*e^(-t),\n",
       " R(t) == -7124543960*t*e^(-t) - 7124543962*e^(-t) + 7124543962]"
      ]
     },
     "execution_count": 36,
     "metadata": {},
     "output_type": "execute_result"
    }
   ],
   "source": [
    "t = var('t')\n",
    "S = function('S')(t)\n",
    "I = function('I')(t)\n",
    "R = function('R')(t)\n",
    "\n",
    "b = 1 #suichan.random.random()\n",
    "g = 1 #suichan.random.random() * .1\n",
    "\n",
    "de1 = diff(S,t) == -b*S\n",
    "de2 = diff(I,t) == b*S - g*I\n",
    "de3 = diff(R,t) == g*I\n",
    "'''\n",
    "S(0) = Healthy[0]\n",
    "I(0) = Infected[0]\n",
    "R(0) = Dead[0]'''\n",
    "\n",
    "#passing solusi ke list sol, habis itu dipindahin satu2 ke masing2 fungsi\n",
    "sol = desolve_system([de1, de2, de3], [S, I, R], ics=[0,Healthy[0], Infected[0], Dead[0]])\n",
    "sol"
   ]
  },
  {
   "cell_type": "code",
   "execution_count": null,
   "metadata": {},
   "outputs": [],
   "source": [
    "#aku gatau aku lagi ngapain ini :(\n",
    "P = desolve_system_rk4([-b*S, b*S - g*I, g*I], [S, I, R], ics=[0,Healthy[0], Infected[0], Dead[0]])\n",
    "P"
   ]
  },
  {
   "cell_type": "code",
   "execution_count": 37,
   "metadata": {},
   "outputs": [
    {
     "name": "stdout",
     "output_type": "stream",
     "text": [
      "-S(0) + 7124543960 == 0\n",
      "-S(1) + 7124543943 == -7124543960*e^(-1) + 7124543943\n",
      "-S(2) + 7124543772 == -7124543960*e^(-2) + 7124543772\n",
      "-S(3) + 7124541605 == -7124543960*e^(-3) + 7124541605\n",
      "-S(4) + 7124499861 == -7124543960*e^(-4) + 7124499861\n",
      "-S(5) + 7115805443 == -7124543960*e^(-5) + 7115805443\n",
      "-S(6) + 7052701998 == -7124543960*e^(-6) + 7052701998\n",
      "-S(7) + 7039461392 == -7124543960*e^(-7) + 7039461392\n",
      "-S(8) + 4949261678 == -7124543960*e^(-8) + 4949261678\n",
      "-S(9) + 4345942864 == -7124543960*e^(-9) + 4345942864\n",
      "-S(10) + 1022877657 == -7124543960*e^(-10) + 1022877657\n",
      "-S(11) + 244854025 == -7124543960*e^(-11) + 244854025\n",
      "-S(12) + 52977 == -7124543960*e^(-12) + 52977\n",
      "-S(13) == -7124543960*e^(-13)\n",
      "-S(14) == -7124543960*e^(-14)\n"
     ]
    }
   ],
   "source": [
    "#mindahin solusi ke var baru\n",
    "Ssol(t) = sol[0]\n",
    "Isol(t) = sol[1]\n",
    "Rsol(t) = sol[2]\n",
    "e = suichan.e #Gatau, solusinya berbentuk string (expressive) gabisa dievaluasi e nya :(\n",
    "\n",
    "#(Maunya) nyari error model terhadap data, tapi . . .\n",
    "for i in range(len(Healthy)):\n",
    "    print(Healthy[i] - Ssol(i))"
   ]
  },
  {
   "cell_type": "code",
   "execution_count": 38,
   "metadata": {},
   "outputs": [
    {
     "data": {
      "text/plain": [
       "0.36787944117144233"
      ]
     },
     "execution_count": 38,
     "metadata": {},
     "output_type": "execute_result"
    }
   ],
   "source": [
    "suichan.e^(-1) #umm, wat?"
   ]
  },
  {
   "cell_type": "code",
   "execution_count": 39,
   "metadata": {},
   "outputs": [
    {
     "data": {
      "text/plain": [
       "S(1) == 7124543960*e^(-1)"
      ]
     },
     "execution_count": 39,
     "metadata": {},
     "output_type": "execute_result"
    }
   ],
   "source": [
    "Ssol(1) #Kan, e nya gabisa ke hitung :("
   ]
  },
  {
   "cell_type": "code",
   "execution_count": null,
   "metadata": {},
   "outputs": [],
   "source": []
  }
 ],
 "metadata": {
  "kernelspec": {
   "display_name": "SageMath 9.0",
   "language": "sage",
   "name": "sagemath"
  },
  "language_info": {
   "codemirror_mode": {
    "name": "ipython",
    "version": 3
   },
   "file_extension": ".py",
   "mimetype": "text/x-python",
   "name": "python",
   "nbconvert_exporter": "python",
   "pygments_lexer": "ipython3",
   "version": "3.7.3"
  }
 },
 "nbformat": 4,
 "nbformat_minor": 2
}
